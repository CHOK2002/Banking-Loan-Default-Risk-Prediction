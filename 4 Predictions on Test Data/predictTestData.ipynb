{
 "cells": [
  {
   "cell_type": "markdown",
   "metadata": {},
   "source": [
    "### Using Best Model (RF) to apply on Bank Loan Test Data"
   ]
  },
  {
   "cell_type": "code",
   "execution_count": 1,
   "metadata": {},
   "outputs": [],
   "source": [
    "import pandas as pd\n",
    "\n",
    "# load test set and preprocess\n",
    "test_df = pd.read_csv('bank_loan_testdata.csv')\n"
   ]
  },
  {
   "cell_type": "code",
   "execution_count": 2,
   "metadata": {},
   "outputs": [
    {
     "data": {
      "text/plain": [
       "loan_id              0\n",
       "age                  0\n",
       "education           92\n",
       "proof_submitted      0\n",
       "loan_amount          0\n",
       "asset_cost           0\n",
       "no_of_loans          0\n",
       "no_of_curr_loans     0\n",
       "last_delinq_none     0\n",
       "dtype: int64"
      ]
     },
     "execution_count": 2,
     "metadata": {},
     "output_type": "execute_result"
    }
   ],
   "source": [
    "test_df.isnull().sum()"
   ]
  },
  {
   "cell_type": "code",
   "execution_count": 3,
   "metadata": {},
   "outputs": [
    {
     "data": {
      "text/plain": [
       "np.int64(0)"
      ]
     },
     "execution_count": 3,
     "metadata": {},
     "output_type": "execute_result"
    }
   ],
   "source": [
    "test_df.duplicated().sum()"
   ]
  },
  {
   "cell_type": "code",
   "execution_count": 4,
   "metadata": {},
   "outputs": [],
   "source": [
    "# cleaning\n",
    "\n",
    "# drop id column\n",
    "test_df = test_df.drop(columns=['loan_id'])\n",
    "\n",
    "# fill na with median \n",
    "test_df.dropna(subset=['education'], inplace=True)"
   ]
  },
  {
   "cell_type": "code",
   "execution_count": 5,
   "metadata": {},
   "outputs": [
    {
     "name": "stdout",
     "output_type": "stream",
     "text": [
      "Skewness before transformation:\n",
      "loan_amount    0.64386\n",
      "asset_cost     2.29723\n",
      "dtype: float64\n",
      "\n",
      "Skewness after transformation:\n",
      "loan_amount_log   -0.694090\n",
      "asset_cost_log     1.188239\n",
      "dtype: float64\n"
     ]
    }
   ],
   "source": [
    "import numpy as np\n",
    "import matplotlib.pyplot as plt\n",
    "import seaborn as sns\n",
    "\n",
    "# most values are small, but a few are extremely large, this creates a skewed distribution\n",
    "# hence, apply a log transformation to compress large values while keeping small values meaningful\n",
    "\n",
    "print(\"Skewness before transformation:\")\n",
    "print(test_df[['loan_amount', 'asset_cost']].skew())\n",
    "\n",
    "# apply log transformation\n",
    "# add a small constant (1) to avoid log(0) issues if there are zeros in your data\n",
    "test_df['loan_amount_log'] = np.log(test_df['loan_amount'] + 1)\n",
    "test_df['asset_cost_log'] = np.log(test_df['asset_cost'] + 1)\n",
    "\n",
    "print(\"\\nSkewness after transformation:\")\n",
    "print(test_df[['loan_amount_log', 'asset_cost_log']].skew())\n"
   ]
  },
  {
   "cell_type": "code",
   "execution_count": 6,
   "metadata": {},
   "outputs": [],
   "source": [
    "# create interaction features using log-transformed columns\n",
    "\n",
    "# this ratio shows how much of the asset cost is financed by a loan, \n",
    "# higher ratio (close to 1) might indicate higher risk because the borrower financed most of the asset cost via a loan\n",
    "test_df['loan_to_value_ratio_log'] = test_df['loan_amount_log'] / test_df['asset_cost_log']\n",
    "\n",
    "# this measures how many current loans a borrower has compared to their total loans\n",
    "# high ratio (close to 1) may indicate financial stress, increasing the likelihood of default\n",
    "test_df['debt_load_ratio_log'] = test_df['no_of_curr_loans'] / (test_df['no_of_loans'] + 1)"
   ]
  },
  {
   "cell_type": "code",
   "execution_count": 7,
   "metadata": {},
   "outputs": [],
   "source": [
    "import joblib\n",
    "\n",
    "# Load the model and scaler\n",
    "model_filename = 'random_forest.pkl'\n",
    "scaler_filename = 'scaler.pkl'\n",
    "\n",
    "model = joblib.load(model_filename)\n",
    "scaler = joblib.load(scaler_filename)\n",
    "\n",
    "# Extract the features for the model and scaler\n",
    "model_features = ['age', 'education', 'last_delinq_none', 'loan_to_value_ratio_log', 'debt_load_ratio_log']\n",
    "scaler_features = ['age', 'loan_to_value_ratio_log', 'debt_load_ratio_log']\n",
    "\n",
    "X_model = test_df[model_features].copy()\n",
    "X_scaler = test_df[scaler_features].copy()\n",
    "\n",
    "# Scale the necessary features\n",
    "X_scaled = scaler.transform(X_scaler)\n",
    "\n",
    "# Replace the scaled values in the corresponding columns of the model features\n",
    "X_model[scaler_features] = X_scaled\n",
    "\n",
    "# Make predictions\n",
    "predictions = model.predict(X_model)\n",
    "\n",
    "# Optionally, add predictions to the test dataframe\n",
    "test_df['predictions'] = predictions"
   ]
  },
  {
   "cell_type": "code",
   "execution_count": 8,
   "metadata": {},
   "outputs": [
    {
     "data": {
      "text/plain": [
       "predictions\n",
       "0    1932\n",
       "1     976\n",
       "Name: count, dtype: int64"
      ]
     },
     "execution_count": 8,
     "metadata": {},
     "output_type": "execute_result"
    }
   ],
   "source": [
    "test_df['predictions'].value_counts()"
   ]
  }
 ],
 "metadata": {
  "kernelspec": {
   "display_name": "mlmodels",
   "language": "python",
   "name": "python3"
  },
  "language_info": {
   "codemirror_mode": {
    "name": "ipython",
    "version": 3
   },
   "file_extension": ".py",
   "mimetype": "text/x-python",
   "name": "python",
   "nbconvert_exporter": "python",
   "pygments_lexer": "ipython3",
   "version": "3.12.4"
  }
 },
 "nbformat": 4,
 "nbformat_minor": 2
}
